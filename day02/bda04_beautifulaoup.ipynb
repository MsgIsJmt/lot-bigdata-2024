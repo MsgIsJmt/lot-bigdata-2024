{
 "cells": [
  {
   "cell_type": "markdown",
   "metadata": {},
   "source": [
    "### BeutifulSoup 기초\n",
    "\n",
    "- 웹 페이지 정제 라이브러리 - 웹페이지 내용을 읽어오고 필요한 내용을 발췌, 데이터로 받아오는 작업\n",
    "- OpenAPI나 데이터를 제공해주지 않는 서비스에서 데이터를 긁어오기 위한 기본 작업\n",
    "\n",
    "#### BeutifulSoup 설치\n",
    "```shell\n",
    "!pip install beautifulsoup4\n",
    "```"
   ]
  },
  {
   "cell_type": "code",
   "execution_count": 1,
   "metadata": {},
   "outputs": [
    {
     "name": "stdout",
     "output_type": "stream",
     "text": [
      "Requirement already satisfied: beautifulsoup4 in c:\\dev\\langs\\python311\\lib\\site-packages (4.12.3)\n",
      "Requirement already satisfied: soupsieve>1.2 in c:\\dev\\langs\\python311\\lib\\site-packages (from beautifulsoup4) (2.5)\n"
     ]
    },
    {
     "name": "stderr",
     "output_type": "stream",
     "text": [
      "\n",
      "[notice] A new release of pip is available: 24.0 -> 24.2\n",
      "[notice] To update, run: python.exe -m pip install --upgrade pip\n"
     ]
    }
   ],
   "source": [
    "!pip install beautifulsoup4"
   ]
  },
  {
   "cell_type": "code",
   "execution_count": 3,
   "metadata": {},
   "outputs": [
    {
     "name": "stderr",
     "output_type": "stream",
     "text": [
      "ERROR: Could not find a version that satisfies the requirement upgrade (from versions: none)\n",
      "ERROR: No matching distribution found for upgrade\n",
      "\n",
      "[notice] A new release of pip is available: 24.0 -> 24.2\n",
      "[notice] To update, run: python.exe -m pip install --upgrade pip\n"
     ]
    }
   ],
   "source": [
    "!python -m pip install -- upgrade pip"
   ]
  },
  {
   "cell_type": "markdown",
   "metadata": {},
   "source": [
    "- 웹크롤링 가능여부 판단\n",
    "    - 웹사이트 열고, 페이지 소스 보기를 했을 때, HTML소스가 일반적으로 표시되어야 함\n",
    "    - 네이버 등 대형포털은 크롤링 방지가 되어 있음"
   ]
  },
  {
   "cell_type": "markdown",
   "metadata": {},
   "source": [
    "- 뷰티풀수프 사용\n",
    "- requests 인터넷 모듈도 같이 사용"
   ]
  },
  {
   "cell_type": "code",
   "execution_count": 5,
   "metadata": {},
   "outputs": [],
   "source": [
    "from bs4 import BeautifulSoup   # 줄임말 보통 안 씀]\n",
    "import requests"
   ]
  },
  {
   "cell_type": "code",
   "execution_count": 11,
   "metadata": {},
   "outputs": [
    {
     "ename": "",
     "evalue": "",
     "output_type": "error",
     "traceback": [
      "\u001b[1;31m현재 셀 또는 이전 셀에서 코드를 실행하는 동안 Kernel이 충돌했습니다. \n",
      "\u001b[1;31m셀의 코드를 검토하여 가능한 오류 원인을 식별하세요. \n",
      "\u001b[1;31m자세한 내용을 보려면 <a href='https://aka.ms/vscodeJupyterKernelCrash'>여기</a>를 클릭하세요. \n",
      "\u001b[1;31m자세한 내용은 Jupyter <a href='command:jupyter.viewOutput'>로그</a>를 참조하세요."
     ]
    }
   ],
   "source": [
    "## 크롤링 사이트 멜론 : https://www.melon.com/chart/index.htm\n",
    "## 406 에러 : 클라이언트 오류 응답 코드\n",
    "url = 'https://search.danawa.com/dsearch.php?k1=HP+%EB%85%B8%ED%8A%B8%EB%B6%81&module=goods&act=dispMain' # 여기를 크롤링 할 것\n",
    "\n",
    "response = requests.get(url)\n",
    "\n",
    "if response.status_code == 200: # 200 OK, 404 Not Found, 500 Internal Error\n",
    "    html = (response.text)\n",
    "    # soup = BeautifulSoup(html 'html.parser')\n",
    "    # prinit(soup)\n",
    "    # soup.select()\n",
    "else:\n",
    "    print(response.status_code)"
   ]
  },
  {
   "cell_type": "markdown",
   "metadata": {},
   "source": [
    "- 단순 웹크롤링은 대부분의 사이트가 막고 있음"
   ]
  }
 ],
 "metadata": {
  "kernelspec": {
   "display_name": "Python 3",
   "language": "python",
   "name": "python3"
  },
  "language_info": {
   "codemirror_mode": {
    "name": "ipython",
    "version": 3
   },
   "file_extension": ".py",
   "mimetype": "text/x-python",
   "name": "python",
   "nbconvert_exporter": "python",
   "pygments_lexer": "ipython3",
   "version": "3.11.5"
  }
 },
 "nbformat": 4,
 "nbformat_minor": 2
}
