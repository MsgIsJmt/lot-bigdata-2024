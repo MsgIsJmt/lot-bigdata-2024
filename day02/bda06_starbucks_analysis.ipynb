{
 "cells": [
  {
   "cell_type": "markdown",
   "metadata": {},
   "source": [
    "### 스타벅스 매장 입지 분석\n",
    "- 순서\n",
    "    1. 데이터 수집\n",
    "    2. 데이터 전처리\n",
    "    3. 분석\n",
    "    4. 시각화\n",
    "\n",
    "#### 데이터 수집\n",
    "- 셀레니움 자동화 + 뷰티플수프 정제"
   ]
  },
  {
   "cell_type": "code",
   "execution_count": 1,
   "metadata": {},
   "outputs": [],
   "source": [
    "# 필요 라이브러리 사용\n",
    "from selenium import webdriver\n",
    "from selenium.webdriver.common.by import By\n",
    "from bs4 import BeautifulSoup"
   ]
  },
  {
   "cell_type": "code",
   "execution_count": 24,
   "metadata": {},
   "outputs": [],
   "source": [
    "# 분석, 시각화 라이브러리 사용\n",
    "import pandas as pd\n",
    "import numpy as np\n",
    "import matplotlib.pyplot as plt\n",
    "from matplotlib import rcParams, rc, font_manager\n",
    "import warnings\n",
    "import seaborn as sns\n",
    "import time"
   ]
  },
  {
   "cell_type": "code",
   "execution_count": 25,
   "metadata": {},
   "outputs": [],
   "source": [
    "# matplotlib 한글 및 기타 설정\n",
    "\n",
    "## 맑은 고딕 사용\n",
    "font_path = 'C:/Windows/Fonts/malgun.ttf'\n",
    "font_name = font_manager.FontProperties(fname=font_path).get_name() # 폰트 이름 : Malgun Gothic\n",
    "warnings.simplefilter('ignore')\n",
    "\n",
    "## 맷플롯립 설정\n",
    "plt.rcParams['font.family'] = font_name        # 폰트 설정\n",
    "plt.rcParams['font.size'] = 12                 # 글자 크기\n",
    "plt.rcParams['figure.figsize'] = (12, 5)       # (W, H)\n",
    "plt.rcParams['axes.grid'] = True               # 차트 가로세로줄 표시\n",
    "plt.rcParams['axes.unicode_minus'] = False     # 한글설정 후 '마이너스 깨짐' 방지 \n",
    "\n",
    "## 시본 설정\n",
    "sns.set_theme(font=font_name, style='darkgrid', rc={'axes.unicode_minus':False})"
   ]
  },
  {
   "cell_type": "markdown",
   "metadata": {},
   "source": [
    "### 셀레니움 사용"
   ]
  },
  {
   "cell_type": "code",
   "execution_count": 31,
   "metadata": {},
   "outputs": [],
   "source": [
    "# 웹드라이버\n",
    "driver = webdriver.Chrome()"
   ]
  },
  {
   "cell_type": "code",
   "execution_count": 32,
   "metadata": {},
   "outputs": [],
   "source": [
    "# 스타벅스 코리아사이트 연결\n",
    "url = 'https://www.starbucks.co.kr/store/store_map.do?disp=quick'\n",
    "driver.get(url)"
   ]
  },
  {
   "cell_type": "code",
   "execution_count": 39,
   "metadata": {},
   "outputs": [],
   "source": [
    "# 매장찾기 클릭\n",
    "## header.find_store_header > h2.btn_find_store > a\n",
    "link_path = 'header.loca_search > h3 > a'\n",
    "driver.find_element(By.CSS_SELECTOR, link_path).click()"
   ]
  },
  {
   "cell_type": "code",
   "execution_count": 40,
   "metadata": {},
   "outputs": [],
   "source": [
    "# 매장찾기 웹소스에서 '지역검색' 링크 검색 후 링크 클릭\n",
    "## F12 개발자도구로 HTML 태그 정보 확인\n",
    "## header.loca_search > h3 > a 에 지역검색 링크 존재\n",
    "link_path = 'header.loca_search > h3 > a'\n",
    "driver.find_element(By.CSS_SELECTOR, link_path).click()"
   ]
  },
  {
   "cell_type": "code",
   "execution_count": 41,
   "metadata": {},
   "outputs": [],
   "source": [
    "# 지역검색에서 서울 링크 클릭\n",
    "## ul.sido_arae_box > li:nth-child(1) > a\n",
    "link_path = 'ul.sido_arae_box > li:nth-child(1) > a'\n",
    "driver.find_element(By.CSS_SELECTOR, link_path).click()"
   ]
  },
  {
   "cell_type": "code",
   "execution_count": 42,
   "metadata": {},
   "outputs": [],
   "source": [
    "# 서울에서 전체 링크 클릭\n",
    "## ul.gugun_arae_box > li:nth-child(1) > a\n",
    "link_path = 'ul.gugun_arae_box > li:nth-child(1) > a'\n",
    "driver.find_element(By.CSS_SELECTOR, link_path).click()\n",
    "# 매장 전체 조회가 최초 2~3초 정도 시간이 걸리기 때문에 딜레이를 걸어줌\n",
    "time.sleep(3.0)"
   ]
  },
  {
   "cell_type": "markdown",
   "metadata": {},
   "source": [
    "- 메가커피, 빽다방, 컴포즈커피 등 크롤링 가능한 사이트도 동일하게 진행\n",
    "\n",
    "### 서울 스타벅스 매장 정보 가져오기"
   ]
  },
  {
   "cell_type": "code",
   "execution_count": 47,
   "metadata": {},
   "outputs": [],
   "source": [
    "html2 = driver.page_source"
   ]
  },
  {
   "cell_type": "code",
   "execution_count": 48,
   "metadata": {},
   "outputs": [],
   "source": [
    "soup = BeautifulSoup(html2, 'html.parser')"
   ]
  },
  {
   "cell_type": "code",
   "execution_count": 49,
   "metadata": {},
   "outputs": [
    {
     "data": {
      "text/plain": [
       "637"
      ]
     },
     "execution_count": 49,
     "metadata": {},
     "output_type": "execute_result"
    }
   ],
   "source": [
    "# 서울, 전체 결과에서 \n",
    "## ul.quickSearchResultBoxSidoGugun > li.quickResultLstCon 만 가져오면 됨\n",
    "quickResultLst = soup.select('li.quickResultLstCon')\n",
    "len(quickResultLst)"
   ]
  },
  {
   "cell_type": "code",
   "execution_count": 51,
   "metadata": {},
   "outputs": [
    {
     "data": {
      "text/plain": [
       "<li class=\"quickResultLstCon\" data-code=\"3762\" data-hlytag=\"null\" data-index=\"0\" data-lat=\"37.501087\" data-long=\"127.043069\" data-name=\"역삼아레나빌딩\" data-storecd=\"1509\" style=\"background:#fff\"> <strong data-my_siren_order_store_yn=\"N\" data-name=\"역삼아레나빌딩\" data-store=\"1509\" data-yn=\"N\">역삼아레나빌딩  </strong> <p class=\"result_details\">서울특별시 강남구 언주로 425 (역삼동)<br/>1522-3232</p> <i class=\"pin_general\">리저브 매장 2번</i></li>"
      ]
     },
     "execution_count": 51,
     "metadata": {},
     "output_type": "execute_result"
    }
   ],
   "source": [
    "# 각 결과 확인, 부산 현재위치에서 나온 23개 결과가 서울과 중첩\n",
    "quickResultLst[23]"
   ]
  },
  {
   "cell_type": "markdown",
   "metadata": {},
   "source": [
    "##### 판다스 데이터 처리"
   ]
  },
  {
   "cell_type": "code",
   "execution_count": 54,
   "metadata": {},
   "outputs": [
    {
     "data": {
      "text/plain": [
       "'중랑역  '"
      ]
     },
     "execution_count": 54,
     "metadata": {},
     "output_type": "execute_result"
    }
   ],
   "source": [
    "quickResultLst[630].select('strong')[0].text"
   ]
  },
  {
   "cell_type": "code",
   "execution_count": null,
   "metadata": {},
   "outputs": [],
   "source": [
    "# 서울매장 리스트 DF\n",
    "seoulStores = []\n",
    "\n",
    "for item in quickResultLst:\n",
    "    "
   ]
  }
 ],
 "metadata": {
  "kernelspec": {
   "display_name": "Python 3",
   "language": "python",
   "name": "python3"
  },
  "language_info": {
   "codemirror_mode": {
    "name": "ipython",
    "version": 3
   },
   "file_extension": ".py",
   "mimetype": "text/x-python",
   "name": "python",
   "nbconvert_exporter": "python",
   "pygments_lexer": "ipython3",
   "version": "3.11.5"
  }
 },
 "nbformat": 4,
 "nbformat_minor": 2
}
